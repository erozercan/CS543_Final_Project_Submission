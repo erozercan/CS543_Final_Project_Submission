{
 "cells": [
  {
   "cell_type": "markdown",
   "metadata": {},
   "source": [
    "# Uniformity Testing:"
   ]
  },
  {
   "cell_type": "code",
   "execution_count": 1,
   "metadata": {},
   "outputs": [],
   "source": [
    "import math \n",
    "from scipy.stats import randint\n",
    "import random\n",
    "import numpy as np\n",
    "import matplotlib.pyplot as plt\n",
    "import pandas as pd\n",
    "from collections import Counter\n",
    "#from tqdm import tnrange"
   ]
  },
  {
   "cell_type": "code",
   "execution_count": 482,
   "metadata": {},
   "outputs": [],
   "source": [
    "#GLOBAL VARIABLES\n",
    "#C=... #large constant\n",
    "#n=99\n",
    "epsilon=0.3\n",
    "delta=0.3\n",
    "#s=(C*math.sqrt(n))/(eplsilon**4)\n",
    "#s=1464 # for n=10000\n",
    "#s=100\n",
    "\n",
    "#t=math.comb(s,2)*((1+2*(epsilon**2))/n)\n",
    "#t=120 # for n=10000\n",
    "#t=584"
   ]
  },
  {
   "cell_type": "code",
   "execution_count": null,
   "metadata": {},
   "outputs": [],
   "source": []
  },
  {
   "cell_type": "code",
   "execution_count": 2,
   "metadata": {},
   "outputs": [],
   "source": [
    "def sample_Dfar1():\n",
    "    # Choose epsilon*n items to have higher probability\n",
    "    S = set(random.sample(range(n), int(epsilon * n)))\n",
    "\n",
    "    # Precompute probabilities\n",
    "    prob = [0] * n\n",
    "    for i in range(n):\n",
    "        if i in S:\n",
    "            prob[i] = (1/n) + (2*epsilon/n)\n",
    "        else:\n",
    "            prob[i] = (1/n) - (2*epsilon/(n*(1-epsilon)))\n",
    "    \n",
    "    # Normalize (optional tiny correction for numerical stability)\n",
    "    total_prob = sum(prob)\n",
    "    prob = [p/total_prob for p in prob]\n",
    "\n",
    "    # Use random.choices to sample according to distribution\n",
    "    return random.choices(range(1, n+1), weights=prob, k=1)[0]\n",
    "\n",
    "\n",
    "def sample_Dfar_easy():\n",
    "    # Create the D_far probability vector once\n",
    "    S = set(random.sample(range(n), int(epsilon * n)))\n",
    "    \n",
    "    #prob = [0] * n\n",
    "    prob=np.zeros(n)\n",
    "    for i in range(n):\n",
    "        if i in S:\n",
    "            prob[i] = (1/n) + (2*epsilon/n)\n",
    "        else:\n",
    "            prob[i] = (1/n) - (2*epsilon/(n*(1-epsilon)))\n",
    "    \n",
    "    # Normalize just in case (tiny numerical errors)\n",
    "    #total_prob = sum(prob)\n",
    "    #prob = [p/total_prob for p in prob]\n",
    "    prob /=prob.sum()\n",
    "    \n",
    "    return prob\n"
   ]
  },
  {
   "cell_type": "code",
   "execution_count": 3,
   "metadata": {},
   "outputs": [],
   "source": [
    "def paninski_dfar():\n",
    "    \"\"\"\n",
    "    Implements Paninski's hard ε-far distribution from Section 3:\n",
    "    q(i) = (1 + ε z_{i/2}) / m,   if i is even\n",
    "           (1 - ε z_{(i+1)/2}) / m, if i is odd\n",
    "    \"\"\"\n",
    "\n",
    "    assert n % 2 == 0, \"m must be even for Paninski's construction.\"\n",
    "\n",
    "    half_n = n // 2\n",
    "    z = np.random.choice([-1, 1], size=half_n+1)  # z_j ∈ {−1, +1}\n",
    "\n",
    "    q = np.zeros(n)\n",
    "    for i in range(n):\n",
    "        if i % 2 == 0:  # even index\n",
    "            idx = i // 2\n",
    "            q[i] = (1 + epsilon * z[idx]) / n\n",
    "        else:  # odd index\n",
    "            idx = (i + 1) // 2\n",
    "            q[i] = (1 - epsilon * z[idx]) / n\n",
    "\n",
    "    # Normalize for safety (though it should already sum to 1)\n",
    "    q /= q.sum()\n",
    "    return q"
   ]
  },
  {
   "cell_type": "code",
   "execution_count": 4,
   "metadata": {},
   "outputs": [],
   "source": [
    "def sample_Dfar_many(prob, n, s):\n",
    "    return random.choices(range(1, n+1), weights=prob, k=s)"
   ]
  },
  {
   "cell_type": "code",
   "execution_count": 5,
   "metadata": {},
   "outputs": [],
   "source": [
    "def compute_Y(samples):\n",
    "    Y_ij=[]\n",
    "    \n",
    "    for i in range(len(samples)):\n",
    "        for j in range(i+1,len(samples)):\n",
    "            Y_ij+=[samples[i]==samples[j]]\n",
    "    \n",
    "    return sum(Y_ij)    \n"
   ]
  },
  {
   "cell_type": "code",
   "execution_count": 6,
   "metadata": {},
   "outputs": [],
   "source": [
    "def uniformity_test(samples):\n",
    "    \n",
    "    Y=compute_Y(samples)\n",
    "    \n",
    "    print(f\"Y is {Y}\")\n",
    "    print(f\"t is {t}\")\n",
    "    \n",
    "    if Y >= t:\n",
    "        return False\n",
    "    else:\n",
    "        return True\n",
    "    "
   ]
  },
  {
   "cell_type": "code",
   "execution_count": 7,
   "metadata": {},
   "outputs": [],
   "source": [
    "def plot_collision_distributions(num_collisions_uniform, num_collisions_Dfar, threshold_t=None):\n",
    "    plt.figure(figsize=(10,6))\n",
    "    \n",
    "    # Plot histograms\n",
    "    plt.hist(num_collisions_uniform, bins=30, alpha=0.6, label='Uniform', color='blue', density=True)\n",
    "    plt.hist(num_collisions_Dfar, bins=30, alpha=0.6, label='D_far', color='red', density=True)\n",
    "    \n",
    "    # Plot threshold if given\n",
    "    if threshold_t is not None:\n",
    "        plt.axvline(threshold_t, color='black', linestyle='dashed', label=f'Threshold t = {threshold_t:.2f}')\n",
    "    \n",
    "    plt.xlabel('Number of Collisions')\n",
    "    plt.ylabel('Density')\n",
    "    plt.title('Collision Distributions for Uniform vs D_far')\n",
    "    plt.legend()\n",
    "    plt.grid(True)\n",
    "    plt.show()"
   ]
  },
  {
   "cell_type": "code",
   "execution_count": 8,
   "metadata": {},
   "outputs": [],
   "source": [
    "def find_threshold(num_collisions_uniform, num_collisions_Dfar, delta):\n",
    "    num_samples = len(num_collisions_uniform)\n",
    "    \n",
    "    # Find (1-delta) percentile for uniform\n",
    "    idx_u = int(np.floor((1 - delta) * num_samples))\n",
    "    threshold_u = num_collisions_uniform[idx_u]\n",
    "    \n",
    "    # Find (delta) percentile for Dfar\n",
    "    idx_d = int(np.floor(delta * num_samples))\n",
    "    threshold_d = num_collisions_Dfar[idx_d]\n",
    "    \n",
    "    # Check if separation is possible\n",
    "    if threshold_u < threshold_d:\n",
    "        # You can choose any t between threshold_u and threshold_d\n",
    "        t_test = (threshold_u + threshold_d) / 2\n",
    "        return t_test\n",
    "    else:\n",
    "        return None  # Means s is too small, need larger s"
   ]
  },
  {
   "cell_type": "code",
   "execution_count": 9,
   "metadata": {},
   "outputs": [],
   "source": [
    "def find_s_and_t(n, epsilon, delta, sample_Dfar, s_test):\n",
    "    #s_test = 500  # initial guess\n",
    "    while True:\n",
    "        \n",
    "        num_collisions_uniform = []\n",
    "        num_collisions_Dfar = []\n",
    "        \n",
    "        prob_Dfar = sample_Dfar()\n",
    "        \n",
    "        for _ in range(100):  # 100 repetitions (you can increase it)\n",
    "            samples_from_uniform = list(randint.rvs(1, n+1, size=s_test))\n",
    "            samples_from_Dfar = sample_Dfar_many(prob_Dfar, n, s_test)\n",
    "            \n",
    "            num_collisions_uniform.append(compute_Y(samples_from_uniform))\n",
    "            num_collisions_Dfar.append(compute_Y(samples_from_Dfar))\n",
    "        \n",
    "        num_collisions_uniform.sort()\n",
    "        num_collisions_Dfar.sort()\n",
    "        \n",
    "        t_test = find_threshold(num_collisions_uniform, num_collisions_Dfar, delta)\n",
    "        \n",
    "        print(\"Finished\")\n",
    "        \n",
    "        if t_test is not None:\n",
    "            return s_test, t_test  # success: found good s and t\n",
    "        else:\n",
    "            s_test = int(s_test * 1.1)  # increase s and try again\n",
    "    "
   ]
  },
  {
   "cell_type": "code",
   "execution_count": 484,
   "metadata": {},
   "outputs": [],
   "source": [
    "n=1000\n",
    "def main0():\n",
    "    print(find_s_and_t(n, epsilon=0.2, delta=0.1))\n",
    "    "
   ]
  },
  {
   "cell_type": "code",
   "execution_count": 485,
   "metadata": {
    "scrolled": true
   },
   "outputs": [
    {
     "name": "stdout",
     "output_type": "stream",
     "text": [
      "(500, 205.0)\n"
     ]
    }
   ],
   "source": [
    "main0()"
   ]
  },
  {
   "cell_type": "code",
   "execution_count": 460,
   "metadata": {},
   "outputs": [],
   "source": [
    "s_test=449\n",
    "num_collisions_uniform = []\n",
    "num_collisions_Dfar = []\n",
    "\n",
    "prob_Dfar = sample_Dfar_easy()\n",
    "\n",
    "for _ in range(100):  # 100 repetitions (you can increase it)\n",
    "    samples_from_uniform = list(randint.rvs(1, n+1, size=s_test))\n",
    "    samples_from_Dfar = sample_Dfar_many(prob_Dfar, n, s_test)\n",
    "\n",
    "    num_collisions_uniform.append(compute_Y(samples_from_uniform))\n",
    "    num_collisions_Dfar.append(compute_Y(samples_from_Dfar))\n",
    "\n",
    "num_collisions_uniform.sort()\n",
    "num_collisions_Dfar.sort()"
   ]
  },
  {
   "cell_type": "code",
   "execution_count": 461,
   "metadata": {},
   "outputs": [
    {
     "data": {
      "image/png": "[encoded data removed]",
      "text/plain": [
       "<Figure size 1000x600 with 1 Axes>"
      ]
     },
     "metadata": {},
     "output_type": "display_data"
    }
   ],
   "source": [
    "plot_collision_distributions(num_collisions_uniform, num_collisions_Dfar, threshold_t=None)"
   ]
  },
  {
   "cell_type": "code",
   "execution_count": 10,
   "metadata": {},
   "outputs": [],
   "source": [
    "import numpy as np\n",
    "import matplotlib.pyplot as plt\n",
    "from scipy.stats import gaussian_kde\n",
    "\n",
    "def find_auto_threshold(num_collisions_uniform, num_collisions_Dfar, plot=True):\n",
    "    # Kernel density estimation\n",
    "    kde_u = gaussian_kde(num_collisions_uniform)\n",
    "    kde_d = gaussian_kde(num_collisions_Dfar)\n",
    "    \n",
    "    # Create a fine grid over the collision values\n",
    "    x_grid = np.linspace(min(min(num_collisions_uniform), min(num_collisions_Dfar)),\n",
    "                         max(max(num_collisions_uniform), max(num_collisions_Dfar)), 1000)\n",
    "    \n",
    "    u_density = kde_u(x_grid)\n",
    "    d_density = kde_d(x_grid)\n",
    "    \n",
    "    # Find where Uniform's density crosses below Dfar's density\n",
    "    crossover_indices = np.where(u_density < d_density)[0]\n",
    "    \n",
    "    if len(crossover_indices) == 0:\n",
    "        print(\"No clear crossover found — maybe s is too small?\")\n",
    "        return None\n",
    "    \n",
    "    # Pick the first crossover point\n",
    "    crossover_idx = crossover_indices[0]\n",
    "    threshold_t = x_grid[crossover_idx]\n",
    "    \n",
    "    if plot:\n",
    "        plt.figure(figsize=(10,6))\n",
    "        plt.plot(x_grid, u_density, label='Uniform density', color='blue')\n",
    "        plt.plot(x_grid, d_density, label='D_far density', color='red')\n",
    "        plt.axvline(threshold_t, color='black', linestyle='dashed', label=f'Suggested t = {threshold_t:.2f}')\n",
    "        plt.xlabel('Number of Collisions')\n",
    "        plt.ylabel('Density')\n",
    "        plt.title('Density Curves and Automatic Threshold')\n",
    "        plt.legend()\n",
    "        plt.grid(True)\n",
    "        plt.show()\n",
    "    \n",
    "    return threshold_t"
   ]
  },
  {
   "cell_type": "code",
   "execution_count": 463,
   "metadata": {
    "scrolled": false
   },
   "outputs": [
    {
     "data": {
      "image/png": "[encoded data removed]",
      "text/plain": [
       "<Figure size 1000x600 with 1 Axes>"
      ]
     },
     "metadata": {},
     "output_type": "display_data"
    }
   ],
   "source": [
    "t_test1 = find_auto_threshold(num_collisions_uniform, num_collisions_Dfar)"
   ]
  },
  {
   "cell_type": "code",
   "execution_count": 464,
   "metadata": {},
   "outputs": [
    {
     "data": {
      "text/plain": [
       "114.07407407407408"
      ]
     },
     "execution_count": 464,
     "metadata": {},
     "output_type": "execute_result"
    }
   ],
   "source": [
    "t_test1"
   ]
  },
  {
   "cell_type": "code",
   "execution_count": 362,
   "metadata": {
    "scrolled": true
   },
   "outputs": [
    {
     "name": "stdout",
     "output_type": "stream",
     "text": [
      "(2677, 7)\n"
     ]
    }
   ],
   "source": [
    "df=pd.read_csv(\"USD_EUR.csv\")\n",
    "print(df.shape)"
   ]
  },
  {
   "cell_type": "code",
   "execution_count": 363,
   "metadata": {},
   "outputs": [
    {
     "data": {
      "text/html": [
       "<div>\n",
       "<style scoped>\n",
       "    .dataframe tbody tr th:only-of-type {\n",
       "        vertical-align: middle;\n",
       "    }\n",
       "\n",
       "    .dataframe tbody tr th {\n",
       "        vertical-align: top;\n",
       "    }\n",
       "\n",
       "    .dataframe thead th {\n",
       "        text-align: right;\n",
       "    }\n",
       "</style>\n",
       "<table border=\"1\" class=\"dataframe\">\n",
       "  <thead>\n",
       "    <tr style=\"text-align: right;\">\n",
       "      <th></th>\n",
       "      <th>Date</th>\n",
       "      <th>Price</th>\n",
       "      <th>Open</th>\n",
       "      <th>High</th>\n",
       "      <th>Low</th>\n",
       "      <th>Vol.</th>\n",
       "      <th>Change %</th>\n",
       "    </tr>\n",
       "  </thead>\n",
       "  <tbody>\n",
       "    <tr>\n",
       "      <th>0</th>\n",
       "      <td>04/28/2025</td>\n",
       "      <td>0.8790</td>\n",
       "      <td>0.8813</td>\n",
       "      <td>0.8815</td>\n",
       "      <td>0.8785</td>\n",
       "      <td>NaN</td>\n",
       "      <td>-0.28%</td>\n",
       "    </tr>\n",
       "    <tr>\n",
       "      <th>1</th>\n",
       "      <td>04/27/2025</td>\n",
       "      <td>0.8814</td>\n",
       "      <td>0.8797</td>\n",
       "      <td>0.8817</td>\n",
       "      <td>0.8796</td>\n",
       "      <td>NaN</td>\n",
       "      <td>0.18%</td>\n",
       "    </tr>\n",
       "    <tr>\n",
       "      <th>2</th>\n",
       "      <td>04/25/2025</td>\n",
       "      <td>0.8798</td>\n",
       "      <td>0.8780</td>\n",
       "      <td>0.8838</td>\n",
       "      <td>0.8776</td>\n",
       "      <td>NaN</td>\n",
       "      <td>0.21%</td>\n",
       "    </tr>\n",
       "    <tr>\n",
       "      <th>3</th>\n",
       "      <td>04/24/2025</td>\n",
       "      <td>0.8780</td>\n",
       "      <td>0.8838</td>\n",
       "      <td>0.8839</td>\n",
       "      <td>0.8773</td>\n",
       "      <td>NaN</td>\n",
       "      <td>-0.63%</td>\n",
       "    </tr>\n",
       "    <tr>\n",
       "      <th>4</th>\n",
       "      <td>04/23/2025</td>\n",
       "      <td>0.8836</td>\n",
       "      <td>0.8756</td>\n",
       "      <td>0.8844</td>\n",
       "      <td>0.8741</td>\n",
       "      <td>NaN</td>\n",
       "      <td>0.91%</td>\n",
       "    </tr>\n",
       "  </tbody>\n",
       "</table>\n",
       "</div>"
      ],
      "text/plain": [
       "         Date   Price    Open    High     Low Vol. Change %\n",
       "0  04/28/2025  0.8790  0.8813  0.8815  0.8785  NaN   -0.28%\n",
       "1  04/27/2025  0.8814  0.8797  0.8817  0.8796  NaN    0.18%\n",
       "2  04/25/2025  0.8798  0.8780  0.8838  0.8776  NaN    0.21%\n",
       "3  04/24/2025  0.8780  0.8838  0.8839  0.8773  NaN   -0.63%\n",
       "4  04/23/2025  0.8836  0.8756  0.8844  0.8741  NaN    0.91%"
      ]
     },
     "execution_count": 363,
     "metadata": {},
     "output_type": "execute_result"
    }
   ],
   "source": [
    "df.head()"
   ]
  },
  {
   "cell_type": "code",
   "execution_count": 11,
   "metadata": {},
   "outputs": [],
   "source": [
    "def get_last_digit(x):\n",
    "    \n",
    "    decimals=str(x).split(\".\")\n",
    "    if len(decimals)==1:\n",
    "        return \"0\"\n",
    "    \n",
    "    decimal=decimals[-1]\n",
    "    \n",
    "    #.7000=>0.7\n",
    "    if len(decimal)==1:\n",
    "        return decimal+'000'\n",
    "    \n",
    "    #.7700=>0.77\n",
    "    elif len(decimal)==2:\n",
    "        return decimal+'00'\n",
    "    \n",
    "    #.7770=>0.777\n",
    "    elif len(decimal)==3:\n",
    "        return decimal + '0'\n",
    "    \n",
    "    else:\n",
    "        return decimal \n",
    "    "
   ]
  },
  {
   "cell_type": "code",
   "execution_count": 394,
   "metadata": {},
   "outputs": [],
   "source": [
    "def main1(last_digit, sample_size):\n",
    "    \n",
    "    df=pd.read_csv(\"USD_EUR.csv\")\n",
    "    print(df.shape)\n",
    "\n",
    "    usd_eur_price_lastNdigit=df[\"Price\"].apply(lambda x: int(get_last_digit(x)[-1*last_digit:]))\n",
    "\n",
    "    print(\"Before Sample\")\n",
    "    print(\"number, count\")\n",
    "    print(usd_eur_price_lastNdigit.value_counts())\n",
    "    \n",
    "    usd_eur_price_lastNdigit=random.sample(list(usd_eur_price_lastNdigit.values), sample_size)\n",
    "    \n",
    "    print(\"After Sample\")\n",
    "    print(\"number, count\")\n",
    "    print(Counter(usd_eur_price_lastNdigit))\n",
    "   \n",
    "    \n",
    "    print(f\"This dataset is uniform?: {uniformity_test(usd_eur_price_lastNdigit)}\")\n",
    "    \n",
    "    "
   ]
  },
  {
   "cell_type": "code",
   "execution_count": 465,
   "metadata": {
    "scrolled": true
   },
   "outputs": [
    {
     "name": "stdout",
     "output_type": "stream",
     "text": [
      "(2677, 7)\n",
      "Before Sample\n",
      "number, count\n",
      "8    288\n",
      "4    282\n",
      "3    275\n",
      "0    274\n",
      "1    271\n",
      "2    265\n",
      "7    263\n",
      "5    258\n",
      "9    254\n",
      "6    247\n",
      "Name: Price, dtype: int64\n",
      "After Sample\n",
      "number, count\n",
      "Counter({6: 14, 4: 13, 0: 12, 5: 12, 8: 10, 2: 9, 3: 8, 1: 8, 7: 7, 9: 7})\n",
      "Y is 480\n",
      "t is 540\n",
      "This dataset is uniform?: True\n"
     ]
    }
   ],
   "source": [
    "n=10\n",
    "s=100\n",
    "t=540\n",
    "\n",
    "main1(last_digit=1,sample_size=s)"
   ]
  },
  {
   "cell_type": "code",
   "execution_count": 467,
   "metadata": {},
   "outputs": [
    {
     "name": "stdout",
     "output_type": "stream",
     "text": [
      "(2677, 7)\n",
      "Before Sample\n",
      "number, count\n",
      "28    44\n",
      "63    40\n",
      "98    36\n",
      "90    36\n",
      "14    36\n",
      "      ..\n",
      "55    18\n",
      "97    15\n",
      "92    15\n",
      "48    15\n",
      "36    14\n",
      "Name: Price, Length: 100, dtype: int64\n",
      "After Sample\n",
      "number, count\n",
      "Counter({40: 6, 67: 5, 8: 4, 5: 4, 12: 4, 22: 4, 98: 4, 15: 4, 32: 4, 9: 3, 41: 3, 0: 3, 92: 3, 16: 3, 35: 3, 51: 3, 29: 3, 17: 3, 14: 3, 66: 3, 72: 3, 75: 2, 74: 2, 81: 2, 60: 2, 77: 2, 99: 2, 82: 2, 69: 2, 13: 2, 26: 2, 37: 2, 79: 2, 59: 2, 30: 2, 87: 2, 62: 2, 33: 2, 54: 2, 95: 2, 42: 2, 65: 2, 50: 2, 61: 2, 68: 2, 28: 2, 93: 2, 83: 1, 73: 1, 34: 1, 94: 1, 25: 1, 11: 1, 2: 1, 89: 1, 21: 1, 20: 1, 39: 1, 90: 1, 64: 1, 55: 1, 91: 1, 70: 1, 1: 1, 3: 1, 56: 1, 24: 1, 88: 1, 6: 1, 38: 1, 10: 1, 44: 1, 19: 1, 46: 1, 85: 1, 7: 1, 31: 1, 96: 1, 27: 1, 52: 1})\n",
      "Y is 129\n",
      "t is 142\n",
      "This dataset is uniform?: True\n"
     ]
    }
   ],
   "source": [
    "#Run this multiple times because it sometimes return True sometimes False\n",
    "n=100\n",
    "s=160\n",
    "t=142\n",
    "\n",
    "main1(last_digit=2, sample_size=s)"
   ]
  },
  {
   "cell_type": "code",
   "execution_count": null,
   "metadata": {},
   "outputs": [],
   "source": []
  },
  {
   "cell_type": "code",
   "execution_count": 471,
   "metadata": {
    "scrolled": true
   },
   "outputs": [
    {
     "name": "stdout",
     "output_type": "stream",
     "text": [
      "(2677, 7)\n",
      "Before Sample\n",
      "number, count\n",
      "445    9\n",
      "218    9\n",
      "814    9\n",
      "228    9\n",
      "230    8\n",
      "      ..\n",
      "396    1\n",
      "299    1\n",
      "388    1\n",
      "303    1\n",
      "355    1\n",
      "Name: Price, Length: 905, dtype: int64\n",
      "After Sample\n",
      "number, count\n",
      "Counter({208: 4, 209: 4, 422: 4, 463: 4, 346: 3, 829: 3, 521: 3, 86: 3, 251: 3, 105: 3, 857: 3, 517: 3, 866: 3, 189: 3, 392: 3, 798: 3, 151: 2, 278: 2, 474: 2, 249: 2, 74: 2, 96: 2, 790: 2, 277: 2, 931: 2, 16: 2, 158: 2, 164: 2, 981: 2, 202: 2, 302: 2, 42: 2, 614: 2, 631: 2, 107: 2, 228: 2, 170: 2, 851: 2, 477: 2, 940: 2, 221: 2, 942: 2, 539: 2, 476: 2, 319: 2, 983: 2, 509: 2, 424: 2, 527: 2, 188: 2, 786: 2, 198: 2, 602: 2, 732: 2, 836: 2, 390: 2, 135: 2, 204: 2, 807: 2, 267: 2, 227: 2, 820: 2, 468: 2, 433: 2, 909: 2, 889: 2, 370: 2, 77: 2, 479: 2, 913: 2, 230: 2, 154: 2, 520: 1, 615: 1, 301: 1, 80: 1, 777: 1, 409: 1, 379: 1, 513: 1, 223: 1, 5: 1, 879: 1, 275: 1, 64: 1, 993: 1, 582: 1, 196: 1, 712: 1, 387: 1, 564: 1, 901: 1, 924: 1, 471: 1, 967: 1, 420: 1, 814: 1, 859: 1, 127: 1, 113: 1, 785: 1, 545: 1, 145: 1, 344: 1, 850: 1, 774: 1, 526: 1, 147: 1, 583: 1, 393: 1, 594: 1, 56: 1, 162: 1, 323: 1, 598: 1, 970: 1, 369: 1, 258: 1, 709: 1, 18: 1, 485: 1, 731: 1, 166: 1, 167: 1, 937: 1, 58: 1, 28: 1, 739: 1, 978: 1, 579: 1, 552: 1, 998: 1, 554: 1, 303: 1, 257: 1, 35: 1, 953: 1, 986: 1, 262: 1, 155: 1, 449: 1, 853: 1, 286: 1, 989: 1, 599: 1, 207: 1, 308: 1, 654: 1, 990: 1, 716: 1, 979: 1, 571: 1, 976: 1, 203: 1, 224: 1, 555: 1, 486: 1, 568: 1, 408: 1, 256: 1, 885: 1, 274: 1, 637: 1, 384: 1, 808: 1, 864: 1, 68: 1, 578: 1, 904: 1, 312: 1, 868: 1, 219: 1, 722: 1, 37: 1, 261: 1, 737: 1, 613: 1, 153: 1, 363: 1, 259: 1, 655: 1, 246: 1, 932: 1, 947: 1, 558: 1, 75: 1, 717: 1, 421: 1, 163: 1, 22: 1, 179: 1, 460: 1, 362: 1, 629: 1, 290: 1, 925: 1, 54: 1, 916: 1, 742: 1, 377: 1, 357: 1, 589: 1, 182: 1, 237: 1, 27: 1, 496: 1, 264: 1, 210: 1, 84: 1, 177: 1, 858: 1, 828: 1, 236: 1, 6: 1, 783: 1, 81: 1, 927: 1, 576: 1, 85: 1, 507: 1, 581: 1, 512: 1, 890: 1, 586: 1, 97: 1, 951: 1, 131: 1, 176: 1, 963: 1, 61: 1, 971: 1, 505: 1, 608: 1, 556: 1, 622: 1, 619: 1, 592: 1, 211: 1, 218: 1, 886: 1, 426: 1, 291: 1, 412: 1, 432: 1, 143: 1, 882: 1, 371: 1, 800: 1, 284: 1, 342: 1, 839: 1, 373: 1, 511: 1, 926: 1, 43: 1, 848: 1, 405: 1, 912: 1, 491: 1, 794: 1, 528: 1, 740: 1, 469: 1, 930: 1, 14: 1, 565: 1, 23: 1, 489: 1, 146: 1, 112: 1, 201: 1, 796: 1, 415: 1, 419: 1, 117: 1, 855: 1, 462: 1, 395: 1, 919: 1, 63: 1, 831: 1, 263: 1, 311: 1, 295: 1, 288: 1, 903: 1, 141: 1, 604: 1, 887: 1, 232: 1, 343: 1, 910: 1, 977: 1, 804: 1, 818: 1, 515: 1, 649: 1, 71: 1, 781: 1, 658: 1, 626: 1, 711: 1, 938: 1, 191: 1, 427: 1, 743: 1, 533: 1, 488: 1, 133: 1, 493: 1, 656: 1, 824: 1, 809: 1, 100: 1, 917: 1, 88: 1, 225: 1, 199: 1, 244: 1, 103: 1, 466: 1, 775: 1, 856: 1, 482: 1, 478: 1, 396: 1, 106: 1, 181: 1, 3: 1, 835: 1, 914: 1, 896: 1, 156: 1, 10: 1, 530: 1, 778: 1, 213: 1, 431: 1, 331: 1, 763: 1, 892: 1, 186: 1, 954: 1, 313: 1, 749: 1, 787: 1, 336: 1, 149: 1, 713: 1, 801: 1, 860: 1, 588: 1, 603: 1, 457: 1, 62: 1, 537: 1, 25: 1})\n",
      "Y is 116\n",
      "t is 113\n",
      "This dataset is uniform?: False\n"
     ]
    }
   ],
   "source": [
    "#Run this multiple times because it sometimes return True sometimes False\n",
    "n=1000\n",
    "s=449\n",
    "t=113\n",
    "\n",
    "main1(last_digit=3, sample_size=s)"
   ]
  },
  {
   "cell_type": "code",
   "execution_count": null,
   "metadata": {},
   "outputs": [],
   "source": []
  },
  {
   "cell_type": "code",
   "execution_count": 472,
   "metadata": {},
   "outputs": [],
   "source": [
    "def main():\n",
    "    \n",
    "    #collect s samples from Uniform Distribution\n",
    "    #samples_from_uniform=[sample_uniform() for _ in range(s)]\n",
    "    samples_from_uniform=list(randint.rvs(1, n+1, size=s))\n",
    "    \n",
    "    prob_Dfar = sample_Dfar_easy()\n",
    "    \n",
    "    #collect s samples from Dfar \n",
    "    samples_from_Dfar=sample_Dfar_many(prob_Dfar, n, s)\n",
    "    \n",
    "    #Uniformity testing on Uniform Distribution\n",
    "    is_U_uniform=uniformity_test(samples_from_uniform)\n",
    "    \n",
    "    #Uniformity testing on Uniform Distribution\n",
    "    is_Dfar_uniform=uniformity_test(samples_from_Dfar)\n",
    "    \n",
    "    print(\"Uniform distribution is uniform?\", is_U_uniform)\n",
    "    print(\"D_far distribution is uniform?\", is_Dfar_uniform)\n",
    "    \n",
    "    return \n",
    "    "
   ]
  },
  {
   "cell_type": "code",
   "execution_count": 478,
   "metadata": {
    "scrolled": false
   },
   "outputs": [
    {
     "name": "stdout",
     "output_type": "stream",
     "text": [
      "Y is 109\n",
      "t is 120\n",
      "Y is 128\n",
      "t is 120\n",
      "Uniform distribution is uniform? True\n",
      "D_far distribution is uniform? False\n"
     ]
    }
   ],
   "source": [
    "n=10000\n",
    "s=1464\n",
    "t=120\n",
    "\n",
    "main()"
   ]
  },
  {
   "cell_type": "code",
   "execution_count": 481,
   "metadata": {},
   "outputs": [
    {
     "data": {
      "text/plain": [
       "1"
      ]
     },
     "execution_count": 481,
     "metadata": {},
     "output_type": "execute_result"
    }
   ],
   "source": [
    "3//2"
   ]
  },
  {
   "cell_type": "code",
   "execution_count": null,
   "metadata": {},
   "outputs": [],
   "source": []
  },
  {
   "cell_type": "markdown",
   "metadata": {},
   "source": [
    "## For easy Dfar: Dfar1"
   ]
  },
  {
   "cell_type": "code",
   "execution_count": 11,
   "metadata": {},
   "outputs": [],
   "source": [
    "old_uniform_easy_s=[]"
   ]
  },
  {
   "cell_type": "code",
   "execution_count": 12,
   "metadata": {},
   "outputs": [],
   "source": [
    "epsilon=0.2\n",
    "delta=0.1"
   ]
  },
  {
   "cell_type": "code",
   "execution_count": 13,
   "metadata": {},
   "outputs": [],
   "source": [
    "n=10000\n",
    "def main0():\n",
    "    # 16 seconds for one while loop starting from 1000\n",
    "    # for (1610, 147.5) 2.5 minutes\n",
    "    print(find_s_and_t(n, epsilon=0.2, delta=0.1, sample_Dfar=sample_Dfar_easy, s_test=1000))"
   ]
  },
  {
   "cell_type": "code",
   "execution_count": 14,
   "metadata": {},
   "outputs": [
    {
     "name": "stdout",
     "output_type": "stream",
     "text": [
      "Finished\n",
      "Finished\n",
      "Finished\n",
      "Finished\n",
      "Finished\n",
      "Finished\n",
      "(1610, 147.5)\n"
     ]
    }
   ],
   "source": [
    "main0()"
   ]
  },
  {
   "cell_type": "code",
   "execution_count": 41,
   "metadata": {
    "scrolled": true
   },
   "outputs": [
    {
     "name": "stdout",
     "output_type": "stream",
     "text": [
      "Finished\n",
      "Finished\n",
      "Finished\n",
      "Finished\n",
      "Finished\n",
      "Finished\n",
      "Finished\n",
      "Finished\n",
      "Finished\n",
      "Finished\n",
      "Finished\n",
      "Finished\n",
      "Finished\n",
      "Finished\n",
      "Finished\n",
      "Finished\n",
      "Finished\n",
      "Finished\n",
      "Finished\n",
      "Finished\n",
      "Finished\n",
      "Finished\n",
      "Finished\n",
      "Finished\n",
      "Finished\n",
      "Finished\n",
      "Finished\n",
      "Finished\n",
      "Finished\n",
      "Finished\n",
      "Finished\n",
      "Finished\n",
      "Finished\n",
      "Finished\n",
      "Finished\n",
      "Finished\n",
      "Finished\n",
      "Finished\n",
      "Finished\n",
      "Finished\n",
      "Finished\n",
      "Finished\n",
      "Finished\n",
      "Finished\n",
      "Finished\n",
      "Finished\n",
      "Finished\n"
     ]
    }
   ],
   "source": [
    "#STORE VALUES HERE:\n",
    "\n",
    "for i in range(10):\n",
    "    old_uniform_easy_s +=[find_s_and_t(n, epsilon=0.2, delta=0.1, sample_Dfar=sample_Dfar_easy, s_test=1000)]\n",
    "    "
   ]
  },
  {
   "cell_type": "code",
   "execution_count": null,
   "metadata": {},
   "outputs": [],
   "source": []
  },
  {
   "cell_type": "code",
   "execution_count": 30,
   "metadata": {},
   "outputs": [
    {
     "ename": "KeyboardInterrupt",
     "evalue": "",
     "output_type": "error",
     "traceback": [
      "\u001b[0;31m---------------------------------------------------------------------------\u001b[0m",
      "\u001b[0;31mKeyboardInterrupt\u001b[0m                         Traceback (most recent call last)",
      "Cell \u001b[0;32mIn[30], line 11\u001b[0m\n\u001b[1;32m      8\u001b[0m     samples_from_uniform \u001b[38;5;241m=\u001b[39m \u001b[38;5;28mlist\u001b[39m(randint\u001b[38;5;241m.\u001b[39mrvs(\u001b[38;5;241m1\u001b[39m, n\u001b[38;5;241m+\u001b[39m\u001b[38;5;241m1\u001b[39m, size\u001b[38;5;241m=\u001b[39ms_test))\n\u001b[1;32m      9\u001b[0m     samples_from_Dfar \u001b[38;5;241m=\u001b[39m sample_Dfar_many(prob_Dfar, n, s_test)\n\u001b[0;32m---> 11\u001b[0m     num_collisions_uniform\u001b[38;5;241m.\u001b[39mappend(\u001b[43mcompute_Y\u001b[49m\u001b[43m(\u001b[49m\u001b[43msamples_from_uniform\u001b[49m\u001b[43m)\u001b[49m)\n\u001b[1;32m     12\u001b[0m     num_collisions_Dfar\u001b[38;5;241m.\u001b[39mappend(compute_Y(samples_from_Dfar))\n\u001b[1;32m     14\u001b[0m num_collisions_uniform\u001b[38;5;241m.\u001b[39msort()\n",
      "Cell \u001b[0;32mIn[5], line 8\u001b[0m, in \u001b[0;36mcompute_Y\u001b[0;34m(samples)\u001b[0m\n\u001b[1;32m      5\u001b[0m     \u001b[38;5;28;01mfor\u001b[39;00m j \u001b[38;5;129;01min\u001b[39;00m \u001b[38;5;28mrange\u001b[39m(i\u001b[38;5;241m+\u001b[39m\u001b[38;5;241m1\u001b[39m,\u001b[38;5;28mlen\u001b[39m(samples)):\n\u001b[1;32m      6\u001b[0m         Y_ij\u001b[38;5;241m+\u001b[39m\u001b[38;5;241m=\u001b[39m[samples[i]\u001b[38;5;241m==\u001b[39msamples[j]]\n\u001b[0;32m----> 8\u001b[0m \u001b[38;5;28;01mreturn\u001b[39;00m \u001b[38;5;28;43msum\u001b[39;49m\u001b[43m(\u001b[49m\u001b[43mY_ij\u001b[49m\u001b[43m)\u001b[49m\n",
      "\u001b[0;31mKeyboardInterrupt\u001b[0m: "
     ]
    }
   ],
   "source": [
    "s_test=1331\n",
    "num_collisions_uniform = []\n",
    "num_collisions_Dfar = []\n",
    "\n",
    "prob_Dfar = sample_Dfar_easy()\n",
    "\n",
    "for _ in range(100):  # 100 repetitions (you can increase it)\n",
    "    samples_from_uniform = list(randint.rvs(1, n+1, size=s_test))\n",
    "    samples_from_Dfar = sample_Dfar_many(prob_Dfar, n, s_test)\n",
    "\n",
    "    num_collisions_uniform.append(compute_Y(samples_from_uniform))\n",
    "    num_collisions_Dfar.append(compute_Y(samples_from_Dfar))\n",
    "\n",
    "num_collisions_uniform.sort()\n",
    "num_collisions_Dfar.sort()"
   ]
  },
  {
   "cell_type": "code",
   "execution_count": 19,
   "metadata": {},
   "outputs": [
    {
     "data": {
      "image/png": "[encoded data removed]",
      "text/plain": [
       "<Figure size 1000x600 with 1 Axes>"
      ]
     },
     "metadata": {},
     "output_type": "display_data"
    }
   ],
   "source": [
    "plot_collision_distributions(num_collisions_uniform, num_collisions_Dfar, threshold_t=None)"
   ]
  },
  {
   "cell_type": "code",
   "execution_count": 20,
   "metadata": {},
   "outputs": [],
   "source": [
    "import numpy as np\n",
    "import matplotlib.pyplot as plt\n",
    "from scipy.stats import gaussian_kde\n",
    "\n",
    "def find_auto_threshold(num_collisions_uniform, num_collisions_Dfar, plot=True):\n",
    "    # Kernel density estimation\n",
    "    kde_u = gaussian_kde(num_collisions_uniform)\n",
    "    kde_d = gaussian_kde(num_collisions_Dfar)\n",
    "    \n",
    "    # Create a fine grid over the collision values\n",
    "    x_grid = np.linspace(min(min(num_collisions_uniform), min(num_collisions_Dfar)),\n",
    "                         max(max(num_collisions_uniform), max(num_collisions_Dfar)), 1000)\n",
    "    \n",
    "    u_density = kde_u(x_grid)\n",
    "    d_density = kde_d(x_grid)\n",
    "    \n",
    "    # Find where Uniform's density crosses below Dfar's density\n",
    "    crossover_indices = np.where(u_density < d_density)[0]\n",
    "    \n",
    "    if len(crossover_indices) == 0:\n",
    "        print(\"No clear crossover found — maybe s is too small?\")\n",
    "        return None\n",
    "    \n",
    "    # Pick the first crossover point\n",
    "    crossover_idx = crossover_indices[0]\n",
    "    threshold_t = x_grid[crossover_idx]\n",
    "    \n",
    "    if plot:\n",
    "        plt.figure(figsize=(10,6))\n",
    "        plt.plot(x_grid, u_density, label='Uniform density', color='blue')\n",
    "        plt.plot(x_grid, d_density, label='D_far density', color='red')\n",
    "        plt.axvline(threshold_t, color='black', linestyle='dashed', label=f'Suggested t = {threshold_t:.2f}')\n",
    "        plt.xlabel('Number of Collisions')\n",
    "        plt.ylabel('Density')\n",
    "        plt.title('Density Curves and Automatic Threshold')\n",
    "        plt.legend()\n",
    "        plt.grid(True)\n",
    "        plt.show()\n",
    "    \n",
    "    return threshold_t"
   ]
  },
  {
   "cell_type": "code",
   "execution_count": 21,
   "metadata": {},
   "outputs": [
    {
     "data": {
      "image/png": "[encoded data removed]",
      "text/plain": [
       "<Figure size 1000x600 with 1 Axes>"
      ]
     },
     "metadata": {},
     "output_type": "display_data"
    }
   ],
   "source": [
    "t_test1 = find_auto_threshold(num_collisions_uniform, num_collisions_Dfar)"
   ]
  },
  {
   "cell_type": "code",
   "execution_count": 22,
   "metadata": {},
   "outputs": [
    {
     "data": {
      "text/plain": [
       "100.6096096096096"
      ]
     },
     "execution_count": 22,
     "metadata": {},
     "output_type": "execute_result"
    }
   ],
   "source": [
    "t_test1"
   ]
  },
  {
   "cell_type": "code",
   "execution_count": 42,
   "metadata": {},
   "outputs": [
    {
     "data": {
      "text/plain": [
       "[(1331, 99.5),\n",
       " (1331, 105.0),\n",
       " (1331, 100.0),\n",
       " (1464, 124.5),\n",
       " (1464, 120.0),\n",
       " (1610, 146.0),\n",
       " (1464, 121.5),\n",
       " (1331, 99.5),\n",
       " (1610, 148.0),\n",
       " (1331, 100.0)]"
      ]
     },
     "execution_count": 42,
     "metadata": {},
     "output_type": "execute_result"
    }
   ],
   "source": [
    "old_uniform_easy_s"
   ]
  },
  {
   "cell_type": "code",
   "execution_count": 46,
   "metadata": {},
   "outputs": [],
   "source": [
    "old_s_values=[pair[0] for pair in old_uniform_easy_s]"
   ]
  },
  {
   "cell_type": "code",
   "execution_count": 47,
   "metadata": {},
   "outputs": [
    {
     "data": {
      "text/plain": [
       "1426.7"
      ]
     },
     "execution_count": 47,
     "metadata": {},
     "output_type": "execute_result"
    }
   ],
   "source": [
    "np.mean(old_s_values)"
   ]
  },
  {
   "cell_type": "code",
   "execution_count": 23,
   "metadata": {},
   "outputs": [],
   "source": [
    "#Doing the same thing but now trying epsilon=0.3 and delta=0.2\n",
    "\n",
    "n=10000\n",
    "def main0():\n",
    "    # 16 seconds for one while loop starting from 1000\n",
    "    # for (1610, 147.5) 2.5 minutes\n",
    "    print(find_s_and_t(n, epsilon=0.3, delta=0.2, sample_Dfar=sample_Dfar_easy, s_test=100))"
   ]
  },
  {
   "cell_type": "code",
   "execution_count": 24,
   "metadata": {},
   "outputs": [
    {
     "name": "stdout",
     "output_type": "stream",
     "text": [
      "Finished\n",
      "Finished\n",
      "Finished\n",
      "Finished\n",
      "Finished\n",
      "Finished\n",
      "Finished\n",
      "Finished\n",
      "Finished\n",
      "Finished\n",
      "Finished\n",
      "Finished\n",
      "(281, 5.5)\n"
     ]
    }
   ],
   "source": [
    "main0()"
   ]
  },
  {
   "cell_type": "code",
   "execution_count": 25,
   "metadata": {
    "scrolled": true
   },
   "outputs": [
    {
     "name": "stdout",
     "output_type": "stream",
     "text": [
      "Finished\n",
      "Finished\n",
      "Finished\n",
      "Finished\n",
      "Finished\n",
      "Finished\n",
      "Finished\n",
      "Finished\n",
      "Finished\n",
      "Finished\n",
      "Finished\n",
      "Done\n",
      "Finished\n",
      "Finished\n",
      "Finished\n",
      "Finished\n",
      "Finished\n",
      "Finished\n",
      "Finished\n",
      "Finished\n",
      "Finished\n",
      "Finished\n",
      "Finished\n",
      "Finished\n",
      "Done\n",
      "Finished\n",
      "Finished\n",
      "Finished\n",
      "Finished\n",
      "Finished\n",
      "Finished\n",
      "Finished\n",
      "Finished\n",
      "Finished\n",
      "Finished\n",
      "Finished\n",
      "Done\n",
      "Finished\n",
      "Finished\n",
      "Finished\n",
      "Finished\n",
      "Finished\n",
      "Finished\n",
      "Finished\n",
      "Finished\n",
      "Finished\n",
      "Finished\n",
      "Finished\n",
      "Done\n",
      "Finished\n",
      "Finished\n",
      "Finished\n",
      "Finished\n",
      "Finished\n",
      "Finished\n",
      "Finished\n",
      "Finished\n",
      "Finished\n",
      "Finished\n",
      "Finished\n",
      "Done\n",
      "Finished\n",
      "Finished\n",
      "Finished\n",
      "Finished\n",
      "Finished\n",
      "Finished\n",
      "Finished\n",
      "Finished\n",
      "Finished\n",
      "Finished\n",
      "Finished\n",
      "Finished\n",
      "Done\n",
      "Finished\n",
      "Finished\n",
      "Finished\n",
      "Finished\n",
      "Finished\n",
      "Finished\n",
      "Finished\n",
      "Finished\n",
      "Finished\n",
      "Finished\n",
      "Finished\n",
      "Finished\n",
      "Finished\n",
      "Done\n",
      "Finished\n",
      "Finished\n",
      "Finished\n",
      "Finished\n",
      "Finished\n",
      "Finished\n",
      "Finished\n",
      "Finished\n",
      "Finished\n",
      "Finished\n",
      "Done\n",
      "Finished\n",
      "Finished\n",
      "Finished\n",
      "Finished\n",
      "Finished\n",
      "Finished\n",
      "Finished\n",
      "Finished\n",
      "Finished\n",
      "Finished\n",
      "Done\n",
      "Finished\n",
      "Finished\n",
      "Finished\n",
      "Finished\n",
      "Finished\n",
      "Finished\n",
      "Finished\n",
      "Finished\n",
      "Finished\n",
      "Finished\n",
      "Finished\n",
      "Finished\n",
      "Done\n"
     ]
    }
   ],
   "source": [
    "#Doing the same thing but now trying epsilon=0.3 and delta=0.2\n",
    "epsilon=0.3\n",
    "delta=0.2\n",
    "old_uniform_easy_s1=[]\n",
    "\n",
    "for i in range(10):\n",
    "    old_uniform_easy_s1 +=[find_s_and_t(n, epsilon=0.3, delta=0.2, sample_Dfar=sample_Dfar_easy, s_test=100)]\n",
    "    print(\"Done\")\n",
    "    "
   ]
  },
  {
   "cell_type": "code",
   "execution_count": 26,
   "metadata": {},
   "outputs": [
    {
     "data": {
      "text/plain": [
       "[(256, 5.5),\n",
       " (281, 5.5),\n",
       " (256, 5.5),\n",
       " (256, 4.5),\n",
       " (256, 4.5),\n",
       " (281, 6.0),\n",
       " (309, 7.5),\n",
       " (233, 3.5),\n",
       " (233, 4.5),\n",
       " (281, 6.5)]"
      ]
     },
     "execution_count": 26,
     "metadata": {},
     "output_type": "execute_result"
    }
   ],
   "source": [
    "old_uniform_easy_s1"
   ]
  },
  {
   "cell_type": "code",
   "execution_count": null,
   "metadata": {},
   "outputs": [],
   "source": []
  },
  {
   "cell_type": "code",
   "execution_count": 29,
   "metadata": {},
   "outputs": [],
   "source": [
    "#Doing the same thing but now trying epsilon=0.25 and delta=0.15\n",
    "n=10000\n",
    "def main0():\n",
    "    print(find_s_and_t(n, epsilon=0.25, delta=0.15, sample_Dfar=sample_Dfar_easy, s_test=100))"
   ]
  },
  {
   "cell_type": "code",
   "execution_count": 30,
   "metadata": {},
   "outputs": [
    {
     "name": "stdout",
     "output_type": "stream",
     "text": [
      "Finished\n",
      "Finished\n",
      "Finished\n",
      "Finished\n",
      "Finished\n",
      "Finished\n",
      "Finished\n",
      "Finished\n",
      "Finished\n",
      "Finished\n",
      "Finished\n",
      "Finished\n",
      "Finished\n",
      "(309, 6.5)\n"
     ]
    }
   ],
   "source": [
    "main0()"
   ]
  },
  {
   "cell_type": "code",
   "execution_count": 31,
   "metadata": {
    "scrolled": true
   },
   "outputs": [
    {
     "name": "stdout",
     "output_type": "stream",
     "text": [
      "Finished\n",
      "Finished\n",
      "Finished\n",
      "Finished\n",
      "Finished\n",
      "Finished\n",
      "Finished\n",
      "Finished\n",
      "Finished\n",
      "Finished\n",
      "Finished\n",
      "Finished\n",
      "Finished\n",
      "Finished\n",
      "Finished\n",
      "Finished\n",
      "Finished\n",
      "Finished\n",
      "Done\n",
      "Finished\n",
      "Finished\n",
      "Finished\n",
      "Finished\n",
      "Finished\n",
      "Finished\n",
      "Finished\n",
      "Finished\n",
      "Finished\n",
      "Finished\n",
      "Finished\n",
      "Finished\n",
      "Finished\n",
      "Finished\n",
      "Finished\n",
      "Finished\n",
      "Finished\n",
      "Finished\n",
      "Finished\n",
      "Finished\n",
      "Done\n",
      "Finished\n",
      "Finished\n",
      "Finished\n",
      "Finished\n",
      "Finished\n",
      "Finished\n",
      "Finished\n",
      "Finished\n",
      "Finished\n",
      "Finished\n",
      "Finished\n",
      "Finished\n",
      "Finished\n",
      "Finished\n",
      "Finished\n",
      "Finished\n",
      "Finished\n",
      "Finished\n",
      "Finished\n",
      "Done\n",
      "Finished\n",
      "Finished\n",
      "Finished\n",
      "Finished\n",
      "Finished\n",
      "Finished\n",
      "Finished\n",
      "Finished\n",
      "Finished\n",
      "Finished\n",
      "Finished\n",
      "Finished\n",
      "Finished\n",
      "Finished\n",
      "Finished\n",
      "Finished\n",
      "Finished\n",
      "Finished\n",
      "Finished\n",
      "Finished\n",
      "Finished\n",
      "Done\n",
      "Finished\n",
      "Finished\n",
      "Finished\n",
      "Finished\n",
      "Finished\n",
      "Finished\n",
      "Finished\n",
      "Finished\n",
      "Finished\n",
      "Finished\n",
      "Finished\n",
      "Finished\n",
      "Finished\n",
      "Finished\n",
      "Finished\n",
      "Finished\n",
      "Finished\n",
      "Finished\n",
      "Finished\n",
      "Done\n",
      "Finished\n",
      "Finished\n",
      "Finished\n",
      "Finished\n",
      "Finished\n",
      "Finished\n",
      "Finished\n",
      "Finished\n",
      "Finished\n",
      "Finished\n",
      "Finished\n",
      "Finished\n",
      "Finished\n",
      "Finished\n",
      "Finished\n",
      "Finished\n",
      "Finished\n",
      "Finished\n",
      "Done\n",
      "Finished\n",
      "Finished\n",
      "Finished\n",
      "Finished\n",
      "Finished\n",
      "Finished\n",
      "Finished\n",
      "Finished\n",
      "Finished\n",
      "Finished\n",
      "Finished\n",
      "Finished\n",
      "Finished\n",
      "Finished\n",
      "Finished\n",
      "Finished\n",
      "Finished\n",
      "Finished\n",
      "Finished\n",
      "Done\n",
      "Finished\n",
      "Finished\n",
      "Finished\n",
      "Finished\n",
      "Finished\n",
      "Finished\n",
      "Finished\n",
      "Finished\n",
      "Finished\n",
      "Finished\n",
      "Finished\n",
      "Finished\n",
      "Finished\n",
      "Finished\n",
      "Finished\n",
      "Finished\n",
      "Finished\n",
      "Finished\n",
      "Finished\n",
      "Done\n",
      "Finished\n",
      "Finished\n",
      "Finished\n",
      "Finished\n",
      "Finished\n",
      "Finished\n",
      "Finished\n",
      "Finished\n",
      "Finished\n",
      "Finished\n",
      "Finished\n",
      "Finished\n",
      "Finished\n",
      "Finished\n",
      "Finished\n",
      "Finished\n",
      "Finished\n",
      "Finished\n",
      "Finished\n",
      "Done\n",
      "Finished\n",
      "Finished\n",
      "Finished\n",
      "Finished\n",
      "Finished\n",
      "Finished\n",
      "Finished\n",
      "Finished\n",
      "Finished\n",
      "Finished\n",
      "Finished\n",
      "Finished\n",
      "Finished\n",
      "Finished\n",
      "Finished\n",
      "Finished\n",
      "Finished\n",
      "Finished\n",
      "Finished\n",
      "Done\n"
     ]
    }
   ],
   "source": [
    "#Doing the same thing but now trying epsilon=0.3 and delta=0.2\n",
    "epsilon=0.25\n",
    "delta=0.15\n",
    "old_uniform_easy_s2=[]\n",
    "\n",
    "for i in range(10):\n",
    "    old_uniform_easy_s2 +=[find_s_and_t(n, epsilon=0.25, delta=0.15, sample_Dfar=sample_Dfar_easy, s_test=100)]\n",
    "    print(\"Done\")\n",
    "    "
   ]
  },
  {
   "cell_type": "code",
   "execution_count": 32,
   "metadata": {},
   "outputs": [
    {
     "data": {
      "text/plain": [
       "[(493, 16.5),\n",
       " (596, 23.5),\n",
       " (542, 19.5),\n",
       " (655, 26.5),\n",
       " (542, 19.5),\n",
       " (493, 15.5),\n",
       " (542, 18.5),\n",
       " (542, 18.5),\n",
       " (542, 18.5),\n",
       " (542, 18.5)]"
      ]
     },
     "execution_count": 32,
     "metadata": {},
     "output_type": "execute_result"
    }
   ],
   "source": [
    "old_uniform_easy_s2"
   ]
  },
  {
   "cell_type": "code",
   "execution_count": null,
   "metadata": {},
   "outputs": [],
   "source": []
  },
  {
   "cell_type": "markdown",
   "metadata": {},
   "source": [
    "## For Paninski's Dfar: Dfar2"
   ]
  },
  {
   "cell_type": "code",
   "execution_count": 42,
   "metadata": {},
   "outputs": [],
   "source": [
    "paninski_Dfar_s=[]"
   ]
  },
  {
   "cell_type": "code",
   "execution_count": 39,
   "metadata": {},
   "outputs": [],
   "source": [
    "epsilon=0.3\n",
    "delta=0.3"
   ]
  },
  {
   "cell_type": "code",
   "execution_count": 40,
   "metadata": {},
   "outputs": [],
   "source": [
    "n=10000\n",
    "def main0_p():\n",
    "    print(find_s_and_t(n, epsilon=0.3, delta=0.3, sample_Dfar=paninski_dfar, s_test=1000))"
   ]
  },
  {
   "cell_type": "code",
   "execution_count": 41,
   "metadata": {},
   "outputs": [
    {
     "name": "stdout",
     "output_type": "stream",
     "text": [
      "Finished\n",
      "Finished\n",
      "Finished\n",
      "(1210, 75.5)\n"
     ]
    }
   ],
   "source": [
    "main0_p()"
   ]
  },
  {
   "cell_type": "code",
   "execution_count": 44,
   "metadata": {
    "scrolled": true
   },
   "outputs": [
    {
     "name": "stdout",
     "output_type": "stream",
     "text": [
      "Finished\n",
      "Finished\n",
      "Finished\n",
      "Finished\n",
      "Finished\n",
      "Finished\n",
      "Finished\n",
      "Finished\n",
      "Finished\n",
      "Finished\n",
      "Finished\n",
      "Finished\n",
      "Finished\n",
      "Finished\n",
      "Finished\n",
      "Finished\n",
      "Finished\n",
      "Finished\n",
      "Finished\n",
      "Finished\n",
      "Finished\n",
      "Finished\n",
      "Finished\n",
      "Finished\n",
      "Finished\n",
      "Finished\n",
      "Finished\n",
      "Finished\n",
      "Finished\n",
      "Finished\n",
      "Finished\n",
      "Finished\n",
      "Finished\n",
      "Finished\n",
      "Finished\n",
      "Finished\n",
      "Finished\n",
      "Finished\n",
      "Finished\n",
      "Finished\n",
      "Finished\n",
      "Finished\n",
      "Finished\n",
      "Finished\n",
      "Finished\n",
      "Finished\n",
      "Finished\n",
      "Finished\n",
      "Finished\n",
      "Finished\n",
      "Finished\n",
      "Finished\n",
      "Finished\n",
      "Finished\n",
      "Finished\n",
      "Finished\n",
      "Finished\n",
      "Finished\n",
      "Finished\n",
      "Finished\n",
      "Finished\n",
      "Finished\n",
      "Finished\n",
      "Finished\n",
      "Finished\n",
      "Finished\n",
      "Finished\n"
     ]
    }
   ],
   "source": [
    "#STORE VALUES HERE:\n",
    "n=10000\n",
    "for i in range(10):\n",
    "    paninski_Dfar_s +=[find_s_and_t(n, epsilon=0.3, delta=0.3, sample_Dfar=paninski_dfar, s_test=1000)]\n",
    "    "
   ]
  },
  {
   "cell_type": "code",
   "execution_count": 45,
   "metadata": {},
   "outputs": [
    {
     "data": {
      "text/plain": [
       "[(1464, 111.5),\n",
       " (1610, 134.0),\n",
       " (1948, 198.0),\n",
       " (1948, 196.5),\n",
       " (1610, 136.5),\n",
       " (1771, 163.0),\n",
       " (1771, 161.5),\n",
       " (1464, 110.5),\n",
       " (1948, 197.0),\n",
       " (1771, 166.0)]"
      ]
     },
     "execution_count": 45,
     "metadata": {},
     "output_type": "execute_result"
    }
   ],
   "source": [
    "paninski_Dfar_s"
   ]
  },
  {
   "cell_type": "code",
   "execution_count": null,
   "metadata": {},
   "outputs": [],
   "source": []
  },
  {
   "cell_type": "code",
   "execution_count": null,
   "metadata": {},
   "outputs": [],
   "source": []
  },
  {
   "cell_type": "code",
   "execution_count": null,
   "metadata": {},
   "outputs": [],
   "source": []
  },
  {
   "cell_type": "code",
   "execution_count": 85,
   "metadata": {},
   "outputs": [],
   "source": [
    "s_test=3000\n",
    "num_Singleton_uniform = []\n",
    "num_Singleton_Dfar = []\n",
    "\n",
    "prob_Dfar_paninski = paninski_dfar()\n",
    "\n",
    "for _ in range(100):  # 100 repetitions (you can increase it)\n",
    "    samples_from_uniform = list(randint.rvs(1, n+1, size=s_test))\n",
    "    samples_from_Dfar = sample_Dfar_many(prob_Dfar_paninski, n, s_test)\n",
    "\n",
    "    num_Singleton_uniform.append(compute_Y(samples_from_uniform))\n",
    "    num_Singleton_Dfar.append(compute_Y(samples_from_Dfar))\n",
    "\n",
    "num_Singleton_uniform.sort()\n",
    "num_Singleton_Dfar.sort()"
   ]
  },
  {
   "cell_type": "code",
   "execution_count": 86,
   "metadata": {
    "scrolled": false
   },
   "outputs": [
    {
     "data": {
      "image/png": "[encoded data removed]",
      "text/plain": [
       "<Figure size 1000x600 with 1 Axes>"
      ]
     },
     "metadata": {},
     "output_type": "display_data"
    }
   ],
   "source": [
    "plot_collision_distributions(num_Singleton_uniform, num_Singleton_Dfar, threshold_t=None)"
   ]
  },
  {
   "cell_type": "code",
   "execution_count": 87,
   "metadata": {
    "scrolled": false
   },
   "outputs": [
    {
     "data": {
      "image/png": "[encoded data removed]",
      "text/plain": [
       "<Figure size 1000x600 with 1 Axes>"
      ]
     },
     "metadata": {},
     "output_type": "display_data"
    }
   ],
   "source": [
    "t_test2 = find_auto_threshold(num_Singleton_uniform, num_Singleton_Dfar)"
   ]
  },
  {
   "cell_type": "code",
   "execution_count": null,
   "metadata": {},
   "outputs": [],
   "source": []
  },
  {
   "cell_type": "code",
   "execution_count": null,
   "metadata": {},
   "outputs": [],
   "source": []
  },
  {
   "cell_type": "code",
   "execution_count": null,
   "metadata": {},
   "outputs": [],
   "source": []
  },
  {
   "cell_type": "code",
   "execution_count": null,
   "metadata": {},
   "outputs": [],
   "source": []
  }
 ],
 "metadata": {
  "kernelspec": {
   "display_name": "Python 3 (ipykernel)",
   "language": "python",
   "name": "python3"
  },
  "language_info": {
   "codemirror_mode": {
    "name": "ipython",
    "version": 3
   },
   "file_extension": ".py",
   "mimetype": "text/x-python",
   "name": "python",
   "nbconvert_exporter": "python",
   "pygments_lexer": "ipython3",
   "version": "3.8.3"
  }
 },
 "nbformat": 4,
 "nbformat_minor": 4
}
